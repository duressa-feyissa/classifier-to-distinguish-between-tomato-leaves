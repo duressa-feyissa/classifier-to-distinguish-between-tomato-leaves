{
  "nbformat": 4,
  "nbformat_minor": 0,
  "metadata": {
    "colab": {
      "provenance": []
    },
    "kernelspec": {
      "name": "python3",
      "display_name": "Python 3"
    },
    "language_info": {
      "name": "python"
    }
  },
  "cells": [
    {
      "cell_type": "code",
      "source": [
        "import tensorflow as tf\n",
        "print(tf.__version__)"
      ],
      "metadata": {
        "id": "hBXT9KeGDa9L"
      },
      "execution_count": null,
      "outputs": []
    },
    {
      "cell_type": "code",
      "source": [
        "!git clone https://github.com/duressa-feyissa/classifier-to-distinguish-between-tomato-leaves.git\n",
        "\n",
        "# Change directory to the dataset folder\n",
        "%cd classifier-to-distinguish-between-tomato-leaves"
      ],
      "metadata": {
        "colab": {
          "base_uri": "https://localhost:8080/"
        },
        "id": "6vsCwJf735uZ",
        "outputId": "16fb0d10-250f-477d-a7fa-4652060c4c2d"
      },
      "execution_count": 4,
      "outputs": [
        {
          "output_type": "stream",
          "name": "stdout",
          "text": [
            "Cloning into 'classifier-to-distinguish-between-tomato-leaves'...\n",
            "remote: Enumerating objects: 23139, done.\u001b[K\n",
            "remote: Counting objects: 100% (3/3), done.\u001b[K\n",
            "remote: Total 23139 (delta 0), reused 3 (delta 0), pack-reused 23136\u001b[K\n",
            "Receiving objects: 100% (23139/23139), 310.11 MiB | 22.27 MiB/s, done.\n",
            "Updating files: 100% (23142/23142), done.\n",
            "/content/classifier-to-distinguish-between-tomato-leaves/classifier-to-distinguish-between-tomato-leaves/classifier-to-distinguish-between-tomato-leaves\n"
          ]
        }
      ]
    },
    {
      "cell_type": "code",
      "source": [
        "# List files to verify\n",
        "!ls"
      ],
      "metadata": {
        "colab": {
          "base_uri": "https://localhost:8080/"
        },
        "id": "wU6DaPQm_eep",
        "outputId": "617e6691-f5e1-4ed3-dcd5-39e8b58441d9"
      },
      "execution_count": 5,
      "outputs": [
        {
          "output_type": "stream",
          "name": "stdout",
          "text": [
            "dataset  README.md\n"
          ]
        }
      ]
    },
    {
      "cell_type": "code",
      "execution_count": 6,
      "metadata": {
        "id": "leIgmiZzXcuT"
      },
      "outputs": [],
      "source": [
        "import tensorflow as tf\n",
        "from tensorflow.keras.preprocessing.image import ImageDataGenerator\n",
        "from tensorflow.keras.layers import Conv2D, MaxPooling2D, Flatten, Dense, Dropout\n",
        "from tensorflow.keras.models import Sequential\n",
        "from sklearn.metrics import classification_report, confusion_matrix, roc_auc_score\n",
        "from tensorflow.keras.preprocessing import image\n",
        "import numpy as np\n",
        "from tensorflow.keras.callbacks import EarlyStopping, ModelCheckpoint\n"
      ]
    },
    {
      "cell_type": "code",
      "source": [
        "train_data_dir = './dataset/train'\n",
        "validation_data_dir = './dataset/validation'\n",
        "img_width, img_height = 150, 150\n",
        "batch_size = 32\n",
        "epochs = 30"
      ],
      "metadata": {
        "id": "p7QVBCXp0Afa"
      },
      "execution_count": 7,
      "outputs": []
    },
    {
      "cell_type": "code",
      "source": [
        "train_datagen = ImageDataGenerator(\n",
        "    rescale=1./255,\n",
        "    shear_range=0.2,\n",
        "    zoom_range=0.2,\n",
        "    horizontal_flip=True\n",
        ")"
      ],
      "metadata": {
        "id": "0VTFMXIW0Cax"
      },
      "execution_count": 8,
      "outputs": []
    },
    {
      "cell_type": "code",
      "source": [
        "validation_datagen = ImageDataGenerator(rescale=1./255)"
      ],
      "metadata": {
        "id": "LqAuKQsG0E5V"
      },
      "execution_count": 9,
      "outputs": []
    },
    {
      "cell_type": "code",
      "source": [
        "train_generator = train_datagen.flow_from_directory(\n",
        "    train_data_dir,\n",
        "    target_size=(img_width, img_height),\n",
        "    batch_size=batch_size,\n",
        "    class_mode='binary'\n",
        ")"
      ],
      "metadata": {
        "colab": {
          "base_uri": "https://localhost:8080/"
        },
        "id": "w8OGEaSE0Gw1",
        "outputId": "25df0e75-f334-489a-9028-96ed2f6d1434"
      },
      "execution_count": 10,
      "outputs": [
        {
          "output_type": "stream",
          "name": "stdout",
          "text": [
            "Found 20708 images belonging to 2 classes.\n"
          ]
        }
      ]
    },
    {
      "cell_type": "code",
      "source": [
        "validation_generator = validation_datagen.flow_from_directory(\n",
        "    validation_data_dir,\n",
        "    target_size=(img_width, img_height),\n",
        "    batch_size=batch_size,\n",
        "    class_mode='binary'\n",
        ")"
      ],
      "metadata": {
        "colab": {
          "base_uri": "https://localhost:8080/"
        },
        "id": "e0ld-2-z0JJY",
        "outputId": "c28816fc-9189-4415-de4d-d437a7d06ecc"
      },
      "execution_count": 11,
      "outputs": [
        {
          "output_type": "stream",
          "name": "stdout",
          "text": [
            "Found 2433 images belonging to 2 classes.\n"
          ]
        }
      ]
    },
    {
      "cell_type": "code",
      "source": [
        "model = Sequential()"
      ],
      "metadata": {
        "id": "P_JJP_3D0LQZ"
      },
      "execution_count": 12,
      "outputs": []
    },
    {
      "cell_type": "code",
      "source": [
        "model.add(Conv2D(32, (3, 3), activation='relu', input_shape=(img_width, img_height, 3)))\n",
        "model.add(MaxPooling2D(pool_size=(2, 2)))"
      ],
      "metadata": {
        "id": "rxQ_kazF0Na5"
      },
      "execution_count": 13,
      "outputs": []
    },
    {
      "cell_type": "code",
      "source": [
        "model.add(Conv2D(32, (3, 3), activation='relu'))\n",
        "model.add(MaxPooling2D(pool_size=(2, 2)))"
      ],
      "metadata": {
        "id": "NGILxRFg0Qf1"
      },
      "execution_count": 14,
      "outputs": []
    },
    {
      "cell_type": "code",
      "source": [
        "model.add(Conv2D(64, (3, 3), activation='relu'))\n",
        "model.add(MaxPooling2D(pool_size=(2, 2)))"
      ],
      "metadata": {
        "id": "j7YHYvSJ0SEM"
      },
      "execution_count": 15,
      "outputs": []
    },
    {
      "cell_type": "code",
      "source": [
        "model.add(Flatten())"
      ],
      "metadata": {
        "id": "hYPwkZL10T7D"
      },
      "execution_count": 16,
      "outputs": []
    },
    {
      "cell_type": "code",
      "source": [
        "model.add(Dense(64, activation='relu'))\n",
        "model.add(Dropout(0.5))"
      ],
      "metadata": {
        "id": "C_ehfpF10Vcz"
      },
      "execution_count": 17,
      "outputs": []
    },
    {
      "cell_type": "code",
      "source": [
        "model.add(Dense(1, activation='sigmoid'))"
      ],
      "metadata": {
        "id": "6qNlSf5-0YeN"
      },
      "execution_count": 18,
      "outputs": []
    },
    {
      "cell_type": "code",
      "source": [
        "model.compile(optimizer='adam', loss='binary_crossentropy', metrics=['accuracy'])\n"
      ],
      "metadata": {
        "id": "F4D8XHJu0aDa"
      },
      "execution_count": 19,
      "outputs": []
    },
    {
      "cell_type": "code",
      "source": [
        "early_stopping = EarlyStopping(monitor='val_loss', patience=10, restore_best_weights=True)\n",
        "checkpoint = ModelCheckpoint('best_tomato_leaf_model.h5', monitor='val_loss', save_best_only=True)"
      ],
      "metadata": {
        "id": "Efhv2vhY0bNg"
      },
      "execution_count": 20,
      "outputs": []
    },
    {
      "cell_type": "code",
      "source": [
        "model.fit(\n",
        "    train_generator,\n",
        "    steps_per_epoch=train_generator.samples // batch_size,\n",
        "    epochs=epochs,\n",
        "    validation_data=validation_generator,\n",
        "    validation_steps=validation_generator.samples // batch_size,\n",
        "    callbacks=[early_stopping, checkpoint]\n",
        ")"
      ],
      "metadata": {
        "colab": {
          "base_uri": "https://localhost:8080/"
        },
        "id": "pPhKjd2o0fWF",
        "outputId": "ef942cc4-6bd9-4bc3-b3fb-1f8efcbc50fe"
      },
      "execution_count": null,
      "outputs": [
        {
          "metadata": {
            "tags": null
          },
          "name": "stdout",
          "output_type": "stream",
          "text": [
            "Epoch 1/30\n",
            "647/647 [==============================] - 892s 1s/step - loss: 0.2534 - accuracy: 0.8976 - val_loss: 0.0616 - val_accuracy: 0.9799\n"
          ]
        },
        {
          "metadata": {
            "tags": null
          },
          "name": "stderr",
          "output_type": "stream",
          "text": [
            "/usr/local/lib/python3.10/dist-packages/keras/src/engine/training.py:3103: UserWarning: You are saving your model as an HDF5 file via `model.save()`. This file format is considered legacy. We recommend using instead the native Keras format, e.g. `model.save('my_model.keras')`.\n",
            "  saving_api.save_model(\n"
          ]
        },
        {
          "output_type": "stream",
          "name": "stdout",
          "text": [
            "Epoch 2/30\n",
            "647/647 [==============================] - 838s 1s/step - loss: 0.1296 - accuracy: 0.9567 - val_loss: 0.1097 - val_accuracy: 0.9593\n",
            "Epoch 3/30\n",
            "647/647 [==============================] - 816s 1s/step - loss: 0.1014 - accuracy: 0.9685 - val_loss: 0.0412 - val_accuracy: 0.9840\n",
            "Epoch 4/30\n",
            "647/647 [==============================] - 795s 1s/step - loss: 0.0812 - accuracy: 0.9722 - val_loss: 0.0649 - val_accuracy: 0.9749\n",
            "Epoch 5/30\n",
            "647/647 [==============================] - 794s 1s/step - loss: 0.0649 - accuracy: 0.9809 - val_loss: 0.0197 - val_accuracy: 0.9942\n",
            "Epoch 6/30\n",
            "647/647 [==============================] - 774s 1s/step - loss: 0.0568 - accuracy: 0.9826 - val_loss: 0.0457 - val_accuracy: 0.9848\n",
            "Epoch 7/30\n",
            "315/647 [=============>................] - ETA: 6:19 - loss: 0.0374 - accuracy: 0.9890"
          ]
        }
      ]
    },
    {
      "cell_type": "code",
      "source": [
        "model.save('model.keras')"
      ],
      "metadata": {
        "colab": {
          "base_uri": "https://localhost:8080/",
          "height": 141
        },
        "id": "rGH2PIpkEQVt",
        "outputId": "c8a0a68e-db77-4d9e-b724-7b562f7de5f0"
      },
      "execution_count": null,
      "outputs": [
        {
          "output_type": "error",
          "ename": "NameError",
          "evalue": "name 'model' is not defined",
          "traceback": [
            "\u001b[0;31m---------------------------------------------------------------------------\u001b[0m",
            "\u001b[0;31mNameError\u001b[0m                                 Traceback (most recent call last)",
            "\u001b[0;32m<ipython-input-1-ab5bd09b12f1>\u001b[0m in \u001b[0;36m<cell line: 1>\u001b[0;34m()\u001b[0m\n\u001b[0;32m----> 1\u001b[0;31m \u001b[0mmodel\u001b[0m\u001b[0;34m.\u001b[0m\u001b[0msave\u001b[0m\u001b[0;34m(\u001b[0m\u001b[0;34m'model.keras'\u001b[0m\u001b[0;34m)\u001b[0m\u001b[0;34m\u001b[0m\u001b[0;34m\u001b[0m\u001b[0m\n\u001b[0m",
            "\u001b[0;31mNameError\u001b[0m: name 'model' is not defined"
          ]
        }
      ]
    },
    {
      "cell_type": "code",
      "source": [
        "Y_pred = model.predict(validation_generator)\n",
        "y_pred = np.where(Y_pred > 0.5, 1, 0).flatten()  # Convert probabilities to binary outcomes\n",
        "y_true = validation_generator.classes"
      ],
      "metadata": {
        "colab": {
          "base_uri": "https://localhost:8080/"
        },
        "id": "wUQT3YAE0nZy",
        "outputId": "8cd79d6c-fc71-414d-9ed8-faa8d1f9cbef"
      },
      "execution_count": null,
      "outputs": [
        {
          "output_type": "stream",
          "name": "stdout",
          "text": [
            "77/77 [==============================] - 20s 261ms/step\n"
          ]
        }
      ]
    },
    {
      "cell_type": "code",
      "source": [
        "conf_matrix = confusion_matrix(y_true, y_pred)\n",
        "print('Confusion Matrix')\n",
        "print(conf_matrix)"
      ],
      "metadata": {
        "colab": {
          "base_uri": "https://localhost:8080/"
        },
        "id": "XaGwcTYq8E2b",
        "outputId": "f780dd93-d595-491d-fb06-dded36f7ebcb"
      },
      "execution_count": null,
      "outputs": [
        {
          "output_type": "stream",
          "name": "stdout",
          "text": [
            "Confusion Matrix\n",
            "[[  13  169]\n",
            " [ 172 2079]]\n"
          ]
        }
      ]
    },
    {
      "cell_type": "code",
      "source": [
        "class_report = classification_report(y_true, y_pred, target_names=['Non-Tomato Leaf', 'Tomato Leaf'])\n",
        "print('Classification Report')\n",
        "print(class_report)"
      ],
      "metadata": {
        "colab": {
          "base_uri": "https://localhost:8080/"
        },
        "id": "n_zNZ1b48HSl",
        "outputId": "55e65ade-9db6-4963-e443-3fbf64f4ae18"
      },
      "execution_count": null,
      "outputs": [
        {
          "output_type": "stream",
          "name": "stdout",
          "text": [
            "Classification Report\n",
            "                 precision    recall  f1-score   support\n",
            "\n",
            "Non-Tomato Leaf       0.07      0.07      0.07       182\n",
            "    Tomato Leaf       0.92      0.92      0.92      2251\n",
            "\n",
            "       accuracy                           0.86      2433\n",
            "      macro avg       0.50      0.50      0.50      2433\n",
            "   weighted avg       0.86      0.86      0.86      2433\n",
            "\n"
          ]
        }
      ]
    },
    {
      "cell_type": "code",
      "source": [
        "roc_auc = roc_auc_score(y_true, Y_pred)\n",
        "print('ROC-AUC Score')\n",
        "print(roc_auc)"
      ],
      "metadata": {
        "colab": {
          "base_uri": "https://localhost:8080/"
        },
        "id": "TvuNbEjH0vBm",
        "outputId": "42944d55-b8ab-4392-aec1-8b8ec3f2fa92"
      },
      "execution_count": null,
      "outputs": [
        {
          "output_type": "stream",
          "name": "stdout",
          "text": [
            "ROC-AUC Score\n",
            "0.4903718005672692\n",
            "ROC-AUC Score\n",
            "0.4903718005672692\n"
          ]
        }
      ]
    },
    {
      "cell_type": "code",
      "source": [
        "# Function to preprocess input image\n",
        "def preprocess_image(img_path):\n",
        "    img = image.load_img(img_path, target_size=(img_width, img_height))\n",
        "    img_array = image.img_to_array(img)\n",
        "    img_array = np.expand_dims(img_array, axis=0)\n",
        "    img_array /= 255.0  # rescale to 0-1\n",
        "    return img_array"
      ],
      "metadata": {
        "id": "Iz8vj-JS0391"
      },
      "execution_count": null,
      "outputs": []
    },
    {
      "cell_type": "code",
      "source": [
        "# Function to predict if the image is a tomato leaf\n",
        "def predict_image(img_path):\n",
        "    img_array = preprocess_image(img_path)\n",
        "    prediction = model.predict(img_array)\n",
        "    if prediction[0] > 0.5:\n",
        "        print(\"The image is a tomato leaf\")\n",
        "    else:\n",
        "        print(\"The image is not a tomato leaf\")"
      ],
      "metadata": {
        "id": "Ui1G0AHx1htH"
      },
      "execution_count": null,
      "outputs": []
    },
    {
      "cell_type": "code",
      "source": [
        "predict_image('a.jpg')"
      ],
      "metadata": {
        "colab": {
          "base_uri": "https://localhost:8080/"
        },
        "id": "My-ql59N1qBL",
        "outputId": "8fa07aee-8bb6-48b9-f9e0-87cc8a347703"
      },
      "execution_count": null,
      "outputs": [
        {
          "output_type": "stream",
          "name": "stdout",
          "text": [
            "1/1 [==============================] - 0s 31ms/step\n",
            "The image is a tomato leaf\n"
          ]
        }
      ]
    }
  ]
}